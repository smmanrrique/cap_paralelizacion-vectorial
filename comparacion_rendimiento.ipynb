{
 "cells": [
  {
   "cell_type": "markdown",
   "metadata": {},
   "source": [
    "# Funcion para Realizar los calculos de forma automatizada para cada uno de los casos\n",
    "\n",
    "La función toma como constante algunos valores que son cancelados en el conciente por ende algunas variables tienen como valor predefinido el 1. "
   ]
  },
  {
   "cell_type": "code",
   "execution_count": 2,
   "metadata": {},
   "outputs": [
    {
     "output_type": "stream",
     "name": "stdout",
     "text": [
      "13187379.265936896\n"
     ]
    }
   ],
   "source": [
    "def ips(i,s,ns=True):\n",
    "    if ns:\n",
    "        return i* 10**6 /s \n",
    "\n",
    "def gips(ips):\n",
    "    return ips/10**9  \n",
    "\n",
    "def gflops(flop):\n",
    "    return flop / 10**9  \n",
    "    \n",
    "\n",
    "print(ips(6144,465.9))"
   ]
  },
  {
   "cell_type": "code",
   "execution_count": null,
   "metadata": {},
   "outputs": [],
   "source": [
    "\n",
    "versión\ttiempo(ns)\tspeed-up\tR(GFLOPS)\tR~pico~(GFLOPS)\tV~I~(GIPS)\n",
    "esc.avx\t465.9\t1.0\t\t\t\n",
    "vec.avx\t70.5\t6.60\t\t\t\n",
    "ec.avxfma\t80.1\t5.81"
   ]
  },
  {
   "cell_type": "code",
   "execution_count": null,
   "metadata": {},
   "outputs": [],
   "source": []
  }
 ],
 "metadata": {
  "kernelspec": {
   "display_name": "Python 3",
   "language": "python",
   "name": "python3"
  },
  "language_info": {
   "codemirror_mode": {
    "name": "ipython",
    "version": 3
   },
   "file_extension": ".py",
   "mimetype": "text/x-python",
   "name": "python",
   "nbconvert_exporter": "python",
   "pygments_lexer": "ipython3",
   "version": "3.8.3-final"
  }
 },
 "nbformat": 4,
 "nbformat_minor": 1
}