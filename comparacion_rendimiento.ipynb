{
 "cells": [
  {
   "cell_type": "markdown",
   "metadata": {},
   "source": [
    "# Funcion para Realizar los calculos de forma automatizada para cada uno de los casos\n",
    "\n",
    "La función toma como constante algunos valores que son cancelados en el conciente por ende algunas variables tienen como valor predefinido el 1. "
   ]
  },
  {
   "cell_type": "code",
   "execution_count": 13,
   "metadata": {},
   "outputs": [
    {
     "output_type": "stream",
     "name": "stdout",
     "text": [
      "13187379.265936896\n"
     ]
    }
   ],
   "source": [
    "def ips(i,s,ns=True):\n",
    "    if ns:\n",
    "        return i* 10**6 /s \n",
    "\n",
    "def gips(ips):\n",
    "    return ips/10**9  \n",
    "\n",
    "def gflops(flop):\n",
    "    return flop / 10**9  \n",
    "    \n",
    "\n",
    "print(ips(6144,465.9))"
   ]
  },
  {
   "cell_type": "code",
   "execution_count": null,
   "metadata": {},
   "outputs": [],
   "source": [
    "\n",
    "versión\ttiempo(ns)\tspeed-up\tR(GFLOPS)\tR~pico~(GFLOPS)\tV~I~(GIPS)\n",
    "esc.avx\t465.9\t1.0\t\t\t\n",
    "vec.avx\t70.5\t6.60\t\t\t\n",
    "ec.avxfma\t80.1\t5.81"
   ]
  },
  {
   "cell_type": "code",
   "execution_count": 14,
   "metadata": {},
   "outputs": [
    {
     "output_type": "stream",
     "name": "stdout",
     "text": [
      "esc.avx ips 13187379.265936896\nesc.avx gips 0.013187379265936897\nesc.avx flop 8791586.177291265\nesc.avx gflop 0.008791586177291266\n======================\nvec.avx ips 10893617.021276595\nvec.avx gips 0.010893617021276595\nvec.avx flop 7262411.347517731\nvec.avx gflop 0.007262411347517731\n======================\nvec.avxfma ips 9588014.981273409\nvec.avxfma gips 0.009588014981273409\nvec.avxfma flop 6392009.987515606\nvec.avxfma gflop 0.006392009987515606\n======================\n"
     ]
    }
   ],
   "source": [
    "#esc.avx \n",
    "name = \"esc.avx\" \n",
    "t = 465.9\n",
    "i = 1024*6\n",
    "fi = 1024*4\n",
    "r_i = ips(i,t)\n",
    "r_f = ips(fi,t)\n",
    "r_m = gips(r_i)\n",
    "r_gf = gflops(r_f)\n",
    "print(name,\"ips\", r_i)\n",
    "print(name,\"gips\", r_m)\n",
    "print(name,\"flop\", r_f)\n",
    "print(name,\"gflop\", r_gf)\n",
    "print(\"======================\")\n",
    "\n",
    "\n",
    "#vec.avx\n",
    "name = \"vec.avx\" \n",
    "t = 70.5\n",
    "i =  128*6\n",
    "fi =  128*4\n",
    "r_i = ips(i,t)\n",
    "r_f = ips(fi,t)\n",
    "r_m = gips(r_i)\n",
    "r_gf = gflops(r_f)\n",
    "print(name,\"ips\", r_i)\n",
    "print(name,\"gips\", r_m)\n",
    "print(name,\"flop\", r_f)\n",
    "print(name,\"gflop\", r_gf)\n",
    "print(\"======================\")\n",
    "\n",
    "#vec.avxfma\n",
    "name = \"vec.avxfma\" \n",
    "t = 80.1\n",
    "i =  128*6\n",
    "fi =  128*4\n",
    "r_i = ips(i,t)\n",
    "r_f = ips(fi,t)\n",
    "r_m = gips(r_i)\n",
    "r_gf = gflops(r_f)\n",
    "print(name,\"ips\", r_i)\n",
    "print(name,\"gips\", r_m)\n",
    "print(name,\"flop\", r_f)\n",
    "print(name,\"gflop\", r_gf)\n",
    "print(\"======================\")\n",
    "\n"
   ]
  },
  {
   "cell_type": "code",
   "execution_count": null,
   "metadata": {},
   "outputs": [],
   "source": []
  }
 ],
 "metadata": {
  "kernelspec": {
   "display_name": "Python 3",
   "language": "python",
   "name": "python3"
  },
  "language_info": {
   "codemirror_mode": {
    "name": "ipython",
    "version": 3
   },
   "file_extension": ".py",
   "mimetype": "text/x-python",
   "name": "python",
   "nbconvert_exporter": "python",
   "pygments_lexer": "ipython3",
   "version": "3.8.3-final"
  }
 },
 "nbformat": 4,
 "nbformat_minor": 1
}