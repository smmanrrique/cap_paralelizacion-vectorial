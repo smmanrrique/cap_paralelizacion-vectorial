{
 "cells": [
  {
   "cell_type": "markdown",
   "metadata": {},
   "source": [
    "# Funcion para Realizar los calculos de forma automatizada para cada uno de los casos\n",
    "\n",
    "La función toma como constante algunos valores que son cancelados en el conciente por ende algunas variables tienen como valor predefinido el 1. "
   ]
  },
  {
   "cell_type": "code",
   "execution_count": 38,
   "metadata": {},
   "outputs": [],
   "source": [
    "def ips(i,s):\n",
    "    return i/s \n",
    "\n",
    "def gips(ips):\n",
    "    return ips*10**-9  \n",
    "\n",
    "def gflops(flop):\n",
    "    return flop /10**9  \n",
    "\n",
    "# Rpico = 1.5 GHz x 2 UF x 1 FLOP/ciclo = 3 GFLOPS\n",
    "def rflops(flop, ciclos):\n",
    "    return (3.2 * 8 * flop)/ciclos\n"
   ]
  },
  {
   "cell_type": "code",
   "execution_count": 39,
   "metadata": {},
   "outputs": [
    {
     "output_type": "stream",
     "name": "stdout",
     "text": [
      "2048 4.659e-07\n4395793088.645632\nesc.avx ips 13187379265.936895\nesc.avx gips 13.187379265936896\nesc.avx flop 4395793088.645632\nesc.avx gflop 4.395793088645632\nesc.avx rflop 109894827.2161408\n======================\n"
     ]
    }
   ],
   "source": [
    "#esc.avx \n",
    "name = \"esc.avx\" \n",
    "t = 465.9*( 10**-9)\n",
    "i = 1024*6\n",
    "fi = 1024*2\n",
    "print(fi,t)\n",
    "r_i = ips(float(i),float(t))\n",
    "r_f = ips(float(fi),float(t))\n",
    "print(r_f)\n",
    "r_m = gips(r_i)\n",
    "r_gf = gflops(r_f)\n",
    "print(name,\"ips\", r_i)\n",
    "print(name,\"gips\", r_m)\n",
    "print(name,\"flop\", r_f)\n",
    "print(name,\"gflop\", r_gf)\n",
    "au = rflops(float(r_f), float(1024))\n",
    "print(name,\"rflop\", au)\n",
    "print(\"======================\")\n",
    "\n",
    "\n"
   ]
  },
  {
   "cell_type": "code",
   "execution_count": 33,
   "metadata": {},
   "outputs": [
    {
     "output_type": "stream",
     "name": "stdout",
     "text": [
      "vec.avx ips 9588014981.273409\nvec.avx gips 9.58801498127341\nvec.avx flop 25568039950.062424\nvec.avx gflop 25.568039950062424\n======================\nvec.avxfma ips 10893617021.276596\nvec.avxfma gips 10.893617021276597\nvec.avxfma flop 29049645390.07092\nvec.avxfma gflop 29.049645390070918\n======================\n"
     ]
    }
   ],
   "source": [
    "#vec.avx\n",
    "name = \"vec.avx\" \n",
    "t = 80.1* 10**-9\n",
    "i =  128*6\n",
    "fi =  1024*2\n",
    "r_i = ips(i,float(t))\n",
    "r_f = ips(fi,float(t))\n",
    "r_m = gips(r_i)\n",
    "r_gf = gflops(r_f)\n",
    "print(name,\"ips\", r_i)\n",
    "print(name,\"gips\", r_m)\n",
    "print(name,\"flop\", r_f)\n",
    "print(name,\"gflop\", r_gf)\n",
    "print(\"======================\")\n",
    "\n",
    "#vec.avxfma\n",
    "name = \"vec.avxfma\" \n",
    "t = 70.5* 10**-9\n",
    "i =  128*6\n",
    "fi =  1024*2\n",
    "r_i = ips(i,float(t))\n",
    "r_f = ips(fi,float(t))\n",
    "r_m = gips(r_i)\n",
    "r_gf = gflops(r_f)\n",
    "print(name,\"ips\", r_i)\n",
    "print(name,\"gips\", r_m)\n",
    "print(name,\"flop\", r_f)\n",
    "print(name,\"gflop\", r_gf)\n",
    "print(\"======================\")"
   ]
  },
  {
   "cell_type": "code",
   "execution_count": null,
   "metadata": {},
   "outputs": [],
   "source": []
  }
 ],
 "metadata": {
  "kernelspec": {
   "display_name": "Python 3",
   "language": "python",
   "name": "python3"
  },
  "language_info": {
   "codemirror_mode": {
    "name": "ipython",
    "version": 3
   },
   "file_extension": ".py",
   "mimetype": "text/x-python",
   "name": "python",
   "nbconvert_exporter": "python",
   "pygments_lexer": "ipython3",
   "version": "3.8.3-final"
  }
 },
 "nbformat": 4,
 "nbformat_minor": 1
}