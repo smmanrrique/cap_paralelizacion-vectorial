{
 "cells": [
  {
   "cell_type": "markdown",
   "metadata": {},
   "source": [
    "# Evolución del rendimiento de los procesadores de propósito general entre 1985 y 2020\n",
    "\n",
    "Shamuel Manrrique\n",
    "802400\n",
    "\n",
    "\n",
    "Queremos analizar el incremento de rendimiento en el periodo 1985 ‐ 2020 (35 años) y compararlo el incremento\n",
    "previsto por la Ley de Moore en el número de transistores (x2 cada dos años). Además, queremos analizar el impacto\n",
    "que tienen en ese incremento distintos factores por separado.\n",
    "\n",
    "1. La mejora de la tecnología\n",
    "\n",
    "2. La mejora en los diseños\n",
    "\n",
    "3. La mejora en el acceso a memoria(tecnología y diseño)\n",
    "\n",
    "---"
   ]
  },
  {
   "cell_type": "markdown",
   "metadata": {},
   "source": [
    "# Funcion para Realizar los calculos de forma automatizada para cada uno de los casos\n",
    "\n",
    "La función toma como constante algunos valores que son cancelados en el conciente por ende algunas variables tienen como valor predefinido el 1. "
   ]
  },
  {
   "cell_type": "code",
   "execution_count": 1,
   "metadata": {},
   "outputs": [],
   "source": [
    "# Función para calcular el tiempo de acceso a memoria \n",
    "def tex( tc, ta = 1, cpi=1, i = 1, f = 1.4, memori=False, thread =False):  \n",
    "    if memori:\n",
    "        cpi = cpi + (f * ta)\n",
    "\n",
    "    if thread:\n",
    "        return  (i * cpi * tc)/32\n",
    "\n",
    "    return i * cpi * tc\n",
    "\n",
    "# Funcion para calcular el speedup \n",
    "def speed_up(fast, slow):\n",
    "    return (fast/slow)**(1/35)\n"
   ]
  },
  {
   "cell_type": "markdown",
   "metadata": {},
   "source": [
    "## Caso 1: \n",
    "Cambia tecnología (sólo Tc con Ta = 1c: el diseño aporta una buena jerarquía de memoria!)\n",
    "\n"
   ]
  },
  {
   "cell_type": "code",
   "execution_count": 2,
   "metadata": {},
   "outputs": [
    {
     "name": "stdout",
     "output_type": "stream",
     "text": [
      "CASO 1 core-core-> tex_8086:100 tex_skylake:0.25 sep:1.1867099156995713\n",
      "CASO 1 core-16core-> tex_8086:100 tex_skylake:0.0078125 sep:1.3102339736966304\n"
     ]
    }
   ],
   "source": [
    "    \n",
    "# CASO 1 \n",
    "# core-core:\n",
    "tex_8086 = tex(100)\n",
    "tex_skylake = tex(0.25)\n",
    "sep = speed_up(tex_8086, tex_skylake)\n",
    "\n",
    "print(f\"CASO 1 core-core-> tex_8086:{tex_8086} tex_skylake:{tex_skylake} sep:{sep}\")\n",
    "\n",
    "# core-16core:\n",
    "tex_8086 = tex(100)\n",
    "tex_skylake = tex(0.25, thread=True)\n",
    "sep = speed_up(tex_8086, tex_skylake)\n",
    "\n",
    "print(f\"CASO 1 core-16core-> tex_8086:{tex_8086} tex_skylake:{tex_skylake} sep:{sep}\")"
   ]
  },
  {
   "cell_type": "markdown",
   "metadata": {},
   "source": [
    "## Caso 2: \n",
    "Cambia tecnología con Ta ajustado (i.e. no caches ‐> ninguna aportación de diseño)\n",
    "CPI1985 = CPI2020 = 3; Ta1985 = 1 ciclo; Ta2020 = 60 ciclos"
   ]
  },
  {
   "cell_type": "code",
   "execution_count": 3,
   "metadata": {},
   "outputs": [
    {
     "name": "stdout",
     "output_type": "stream",
     "text": [
      "CASO 2 core-core -> tex_8086:440.00000000000006 tex_skylake:21.75 sep:1.0897179320749277\n",
      "CASO 2 core-16core -> tex_8086:440.00000000000006 tex_skylake:0.6796875 sep:1.2031461416662395\n"
     ]
    }
   ],
   "source": [
    "# CASO 2:\n",
    "# core-core: \n",
    "tex_8086 = tex(100, 1, 3, memori=True)\n",
    "tex_skylake = tex(0.25,60, 3, memori=True)\n",
    "sep = speed_up(tex_8086, tex_skylake)\n",
    "\n",
    "print(f\"CASO 2 core-core -> tex_8086:{tex_8086} tex_skylake:{tex_skylake} sep:{sep}\")\n",
    "\n",
    "# core-16core:\n",
    "tex_8086 = tex(100, 1, 3, memori=True)\n",
    "tex_skylake = tex(0.25,60, 3, memori=True, thread=True)\n",
    "sep = speed_up(tex_8086, tex_skylake)\n",
    "\n",
    "print(f\"CASO 2 core-16core -> tex_8086:{tex_8086} tex_skylake:{tex_skylake} sep:{sep}\")\n"
   ]
  },
  {
   "cell_type": "markdown",
   "metadata": {},
   "source": [
    "## Caso 3: \n",
    "Cambia diseño (mejora CPI incluyendo una buena jerarquía de memoria en 2020)\n",
    "CPI1985 = 3; CPI2020 = 1/3\n",
    "Tc1985 = Tc2020 = 100 ns; Ta1985 = Ta2020 = 1 ciclo\n"
   ]
  },
  {
   "cell_type": "code",
   "execution_count": 4,
   "metadata": {},
   "outputs": [
    {
     "name": "stdout",
     "output_type": "stream",
     "text": [
      "CASO 3 core-core -> tex_8086:440.00000000000006 tex_skylake:173.0 sep:1.027029799550057\n",
      "CASO 3 core-16core -> tex_8086:440.00000000000006 tex_skylake:5.40625 sep:1.1339328319137354\n"
     ]
    }
   ],
   "source": [
    "# CASO 3:\n",
    "# core-core:\n",
    "tex_8086 = tex(100, 1, 3, memori=True)\n",
    "tex_skylake = tex(100, 1, 0.33, memori=True)\n",
    "sep = speed_up(tex_8086, tex_skylake)\n",
    "\n",
    "print(f\"CASO 3 core-core -> tex_8086:{tex_8086} tex_skylake:{tex_skylake} sep:{sep}\")\n",
    "\n",
    "# core-16core:\n",
    "tex_8086 = tex(100, 1, 3, memori=True)\n",
    "tex_skylake = tex(100, 1, 0.33, memori=True, thread=True)\n",
    "sep = speed_up(tex_8086, tex_skylake)\n",
    "\n",
    "print(f\"CASO 3 core-16core -> tex_8086:{tex_8086} tex_skylake:{tex_skylake} sep:{sep}\")"
   ]
  },
  {
   "cell_type": "markdown",
   "metadata": {},
   "source": [
    "## Caso 4:\n",
    "Cambian diseño (CPI, caches) y tecnología (Tc)‐> Ta ajustado\n",
    "Ta2020 = 1 c (Buena jerarquía de memoria)\n",
    "Calcular solo con 16 cores /32 threads en 2020"
   ]
  },
  {
   "cell_type": "code",
   "execution_count": 5,
   "metadata": {},
   "outputs": [
    {
     "name": "stdout",
     "output_type": "stream",
     "text": [
      "CASO 4 core-core -> tex_8086:440.00000000000006 tex_skylake:0.013515625 sep:1.345649335369325\n"
     ]
    }
   ],
   "source": [
    "# CASO 4: \n",
    "# core-core:\n",
    "tex_8086 = tex(100, 1, 3,  memori=True)\n",
    "tex_skylake = tex(0.25, 1, 0.33, thread=True,  memori=True)\n",
    "sep = speed_up(tex_8086, tex_skylake)\n",
    "\n",
    "print(f\"CASO 4 core-core -> tex_8086:{tex_8086} tex_skylake:{tex_skylake} sep:{sep}\")\n"
   ]
  }
 ],
 "metadata": {
  "kernelspec": {
   "display_name": "Python 3",
   "language": "python",
   "name": "python3"
  },
  "language_info": {
   "codemirror_mode": {
    "name": "ipython",
    "version": 3
   },
   "file_extension": ".py",
   "mimetype": "text/x-python",
   "name": "python",
   "nbconvert_exporter": "python",
   "pygments_lexer": "ipython3",
   "version": "3.7.7"
  }
 },
 "nbformat": 4,
 "nbformat_minor": 1
}
